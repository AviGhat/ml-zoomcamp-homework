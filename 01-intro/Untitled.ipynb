{
 "cells": [
  {
   "cell_type": "code",
   "execution_count": 4,
   "id": "22cc1a6b",
   "metadata": {},
   "outputs": [],
   "source": [
    "import numpy as np\n",
    "import pandas as pd"
   ]
  },
  {
   "cell_type": "code",
   "execution_count": 5,
   "id": "d1816bb6",
   "metadata": {},
   "outputs": [
    {
     "name": "stdout",
     "output_type": "stream",
     "text": [
      "9704\n",
      "      engine_displacement  num_cylinders  horsepower  vehicle_weight  \\\n",
      "0                     170            3.0       159.0     3413.433759   \n",
      "1                     130            5.0        97.0     3149.664934   \n",
      "2                     170            NaN        78.0     3079.038997   \n",
      "3                     220            4.0         NaN     2542.392402   \n",
      "4                     210            1.0       140.0     3460.870990   \n",
      "...                   ...            ...         ...             ...   \n",
      "9699                  140            5.0       164.0     2981.107371   \n",
      "9700                  180            NaN       154.0     2439.525729   \n",
      "9701                  220            2.0       138.0     2583.471318   \n",
      "9702                  230            4.0       177.0     2905.527390   \n",
      "9703                  270            3.0       140.0     2908.043477   \n",
      "\n",
      "      acceleration  model_year  origin fuel_type         drivetrain  \\\n",
      "0             17.7        2003  Europe  Gasoline    All-wheel drive   \n",
      "1             17.8        2007     USA  Gasoline  Front-wheel drive   \n",
      "2             15.1        2018  Europe  Gasoline  Front-wheel drive   \n",
      "3             20.2        2009     USA    Diesel    All-wheel drive   \n",
      "4             14.4        2009  Europe  Gasoline    All-wheel drive   \n",
      "...            ...         ...     ...       ...                ...   \n",
      "9699          17.3        2013  Europe    Diesel  Front-wheel drive   \n",
      "9700          15.0        2004     USA  Gasoline    All-wheel drive   \n",
      "9701          15.1        2008     USA    Diesel    All-wheel drive   \n",
      "9702          19.4        2011     USA    Diesel  Front-wheel drive   \n",
      "9703          14.7        2005    Asia    Diesel    All-wheel drive   \n",
      "\n",
      "      num_doors  fuel_efficiency_mpg  \n",
      "0           0.0            13.231729  \n",
      "1           0.0            13.688217  \n",
      "2           0.0            14.246341  \n",
      "3           2.0            16.912736  \n",
      "4           2.0            12.488369  \n",
      "...         ...                  ...  \n",
      "9699        NaN            15.101802  \n",
      "9700        0.0            17.962326  \n",
      "9701       -1.0            17.186587  \n",
      "9702        1.0            15.331551  \n",
      "9703       -1.0            14.884467  \n",
      "\n",
      "[9704 rows x 11 columns]\n"
     ]
    }
   ],
   "source": [
    "df =pd.DataFrame(pd.read_csv('/workspaces/ml-zoomcamp-homework/car_fuel_efficiency.csv'))\n",
    "print(len(df))\n",
    "print(df)"
   ]
  },
  {
   "cell_type": "code",
   "execution_count": 11,
   "id": "868e1e58",
   "metadata": {},
   "outputs": [
    {
     "name": "stdout",
     "output_type": "stream",
     "text": [
      "      engine_displacement  num_cylinders  horsepower  vehicle_weight  \\\n",
      "8                     250            1.0       174.0     2714.219310   \n",
      "12                    320            5.0       145.0     2783.868974   \n",
      "14                    200            6.0       160.0     3582.687368   \n",
      "20                    150            3.0       197.0     2231.808142   \n",
      "21                    160            4.0       133.0     2659.431451   \n",
      "...                   ...            ...         ...             ...   \n",
      "9688                  260            4.0         NaN     3948.404625   \n",
      "9692                  180            3.0       188.0     3680.341381   \n",
      "9693                  280            2.0       148.0     2545.070139   \n",
      "9698                  180            1.0       131.0     3107.427820   \n",
      "9703                  270            3.0       140.0     2908.043477   \n",
      "\n",
      "      acceleration  model_year origin fuel_type         drivetrain  num_doors  \\\n",
      "8             10.3        2016   Asia    Diesel  Front-wheel drive       -1.0   \n",
      "12            15.1        2010   Asia    Diesel    All-wheel drive        1.0   \n",
      "14            14.9        2007   Asia    Diesel    All-wheel drive        0.0   \n",
      "20            18.7        2011   Asia  Gasoline  Front-wheel drive        1.0   \n",
      "21             NaN        2016   Asia  Gasoline  Front-wheel drive       -1.0   \n",
      "...            ...         ...    ...       ...                ...        ...   \n",
      "9688          15.5        2018   Asia    Diesel    All-wheel drive       -1.0   \n",
      "9692          18.0        2016   Asia  Gasoline  Front-wheel drive        1.0   \n",
      "9693          15.6        2012   Asia    Diesel    All-wheel drive        0.0   \n",
      "9698          13.2        2005   Asia  Gasoline  Front-wheel drive       -2.0   \n",
      "9703          14.7        2005   Asia    Diesel    All-wheel drive       -1.0   \n",
      "\n",
      "      fuel_efficiency_mpg  \n",
      "8               16.823554  \n",
      "12              16.175820  \n",
      "14              11.871091  \n",
      "20              18.889083  \n",
      "21              16.077730  \n",
      "...                   ...  \n",
      "9688            11.054830  \n",
      "9692            11.711653  \n",
      "9693            17.202782  \n",
      "9698            13.933716  \n",
      "9703            14.884467  \n",
      "\n",
      "[3247 rows x 11 columns]\n",
      "23.759122836520497\n"
     ]
    }
   ],
   "source": [
    "# types_of_gas = df['fuel_type']\n",
    "# print(types_of_gas.nunique())\n",
    "\n",
    "asian_cars = df[df['origin'] == \"Asia\"]\n",
    "print(asian_cars)\n",
    "print(asian_cars['fuel_efficiency_mpg'].max())"
   ]
  },
  {
   "cell_type": "code",
   "execution_count": null,
   "id": "bb183b4e",
   "metadata": {},
   "outputs": [],
   "source": []
  },
  {
   "cell_type": "code",
   "execution_count": 8,
   "id": "9929511b",
   "metadata": {},
   "outputs": [
    {
     "name": "stdout",
     "output_type": "stream",
     "text": [
      "4\n"
     ]
    }
   ],
   "source": [
    "missing_counts = df.isnull().sum()\n",
    "\n",
    "# 2. Filter for columns with missing values (count > 0)\n",
    "columns_with_missing = missing_counts[missing_counts > 0]\n",
    "\n",
    "# 3. Count the number of such columns\n",
    "num_columns_with_missing = len(columns_with_missing)\n",
    "\n",
    "print(num_columns_with_missing)"
   ]
  },
  {
   "cell_type": "code",
   "execution_count": 6,
   "id": "235ee817",
   "metadata": {},
   "outputs": [
    {
     "name": "stdout",
     "output_type": "stream",
     "text": [
      "149.0\n",
      "152.0\n",
      "152.0\n"
     ]
    },
    {
     "name": "stderr",
     "output_type": "stream",
     "text": [
      "/tmp/ipykernel_2221/1426561984.py:4: FutureWarning: A value is trying to be set on a copy of a DataFrame or Series through chained assignment using an inplace method.\n",
      "The behavior will change in pandas 3.0. This inplace method will never work because the intermediate object on which we are setting values always behaves as a copy.\n",
      "\n",
      "For example, when doing 'df[col].method(value, inplace=True)', try using 'df.method({col: value}, inplace=True)' or df[col] = df[col].method(value) instead, to perform the operation inplace on the original object.\n",
      "\n",
      "\n",
      "  df['horsepower'].fillna(152.0, inplace=True)\n"
     ]
    }
   ],
   "source": [
    "\n",
    "print(df['horsepower'].median())\n",
    "category_counts = df['horsepower'].value_counts().index[0]\n",
    "print(category_counts)\n",
    "df['horsepower'].fillna(152.0, inplace=True)\n",
    "print(df['horsepower'].median())\n"
   ]
  },
  {
   "cell_type": "code",
   "execution_count": 19,
   "id": "8a494f9b",
   "metadata": {},
   "outputs": [
    {
     "name": "stdout",
     "output_type": "stream",
     "text": [
      "w:\n",
      " [[0.01386421]\n",
      " [0.5049067 ]]\n",
      "Sum of elements of w: 0.5187709081074008\n"
     ]
    }
   ],
   "source": [
    "import numpy as np\n",
    "\n",
    "# --- Your custom multiplication functions (fixed small bug) ---\n",
    "def vector_vector_multiplication(u,v):\n",
    "    assert u.shape[0] == v.shape[0]\n",
    "    n = u.shape[0]\n",
    "    result = 0.0\n",
    "    for i in range(n):\n",
    "        result = result + u[i] * v[i]\n",
    "    return result\n",
    "\n",
    "def matrix_vector_multiplication(U,v):\n",
    "    assert U.shape[1] == v.shape[0]\n",
    "    num_rows = U.shape[0]\n",
    "    result = np.zeros(num_rows)\n",
    "    for i in range(num_rows):\n",
    "        result[i] = vector_vector_multiplication(U[i], v)\n",
    "    return result\n",
    "\n",
    "def matrix_multiplication(U,V):\n",
    "    assert U.shape[1] == V.shape[0]\n",
    "    num_rows = U.shape[0]\n",
    "    num_cols = V.shape[1]\n",
    "    result = np.zeros((num_rows, num_cols))\n",
    "    for i in range(num_cols):\n",
    "        vi = V[:, i]\n",
    "        Uvi = matrix_vector_multiplication(U, vi)\n",
    "        result[:, i] = Uvi\n",
    "    return result\n",
    "\n",
    "# --- Your pipeline ---\n",
    "asian_cars = df[df['origin'] == \"Asia\"][['vehicle_weight', 'model_year']]\n",
    "X = asian_cars.head(7).to_numpy()\n",
    "\n",
    "XT = X.T\n",
    "\n",
    "# 1. Compute XTX = XT @ X (NOT X @ XT)\n",
    "XTX = matrix_multiplication(XT, X)\n",
    "\n",
    "# 2. Invert XTX (use numpy for this part, unless you want to implement your own Gaussian elimination)\n",
    "XTX_inv = np.linalg.inv(XTX)\n",
    "\n",
    "# 3. Create y as a column vector\n",
    "y = np.array([1100, 1300, 800, 900, 1000, 1100, 1200]).reshape(-1, 1)\n",
    "\n",
    "# 4. Compute w = XTX_inv @ XT @ y using your functions\n",
    "# First: XT @ y\n",
    "XTy = matrix_multiplication(XT, y)\n",
    "\n",
    "# Then: XTX_inv @ (XT @ y)\n",
    "w = matrix_multiplication(XTX_inv, XTy)\n",
    "\n",
    "# 5. Sum of elements\n",
    "result_sum = np.sum(w)\n",
    "\n",
    "print(\"w:\\n\", w)\n",
    "print(\"Sum of elements of w:\", result_sum)\n",
    "\n"
   ]
  },
  {
   "cell_type": "code",
   "execution_count": 3,
   "id": "7441f419",
   "metadata": {},
   "outputs": [
    {
     "data": {
      "text/plain": [
       "array([0., 0., 0., 0., 0.])"
      ]
     },
     "execution_count": 3,
     "metadata": {},
     "output_type": "execute_result"
    }
   ],
   "source": [
    "np.zeros(5)"
   ]
  },
  {
   "cell_type": "code",
   "execution_count": 4,
   "id": "60749157",
   "metadata": {},
   "outputs": [
    {
     "data": {
      "text/plain": [
       "array([2.5, 2.5, 2.5, 2.5, 2.5, 2.5, 2.5, 2.5, 2.5, 2.5])"
      ]
     },
     "execution_count": 4,
     "metadata": {},
     "output_type": "execute_result"
    }
   ],
   "source": [
    "np.full(10,2.5)"
   ]
  }
 ],
 "metadata": {
  "kernelspec": {
   "display_name": "Python 3",
   "language": "python",
   "name": "python3"
  },
  "language_info": {
   "codemirror_mode": {
    "name": "ipython",
    "version": 3
   },
   "file_extension": ".py",
   "mimetype": "text/x-python",
   "name": "python",
   "nbconvert_exporter": "python",
   "pygments_lexer": "ipython3",
   "version": "3.12.1"
  }
 },
 "nbformat": 4,
 "nbformat_minor": 5
}
